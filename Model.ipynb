{
  "nbformat": 4,
  "nbformat_minor": 0,
  "metadata": {
    "colab": {
      "name": "Model.ipynb",
      "version": "0.3.2",
      "provenance": [],
      "collapsed_sections": [],
      "include_colab_link": true
    },
    "kernelspec": {
      "name": "python3",
      "display_name": "Python 3"
    },
    "accelerator": "GPU"
  },
  "cells": [
    {
      "cell_type": "markdown",
      "metadata": {
        "id": "view-in-github",
        "colab_type": "text"
      },
      "source": [
        "<a href=\"https://colab.research.google.com/github/Exzotick/Rus/blob/master/Model.ipynb\" target=\"_parent\"><img src=\"https://colab.research.google.com/assets/colab-badge.svg\" alt=\"Open In Colab\"/></a>"
      ]
    },
    {
      "cell_type": "code",
      "metadata": {
        "id": "Fl-X2UnOvOsj",
        "colab_type": "code",
        "colab": {}
      },
      "source": [
        "import pandas as pd\n",
        "import numpy as np\n",
        "import matplotlib.pyplot as plt\n",
        "from sklearn.metrics import roc_auc_score, precision_score, recall_score\n",
        "from sklearn.ensemble import RandomForestClassifier"
      ],
      "execution_count": 0,
      "outputs": []
    },
    {
      "cell_type": "code",
      "metadata": {
        "id": "X4COSWFgvQcy",
        "colab_type": "code",
        "colab": {}
      },
      "source": [
        "#Считывание лога событий за первый день\n",
        "df = pd.read_csv('EURRUB.txt', nrows=2e6)\n",
        "df = df.drop(['NO', 'SECCODE'], axis=1)\n",
        "df['ORDERNO'] = pd.to_numeric(df['ORDERNO'], downcast='unsigned')\n",
        "df['VOLUME'] = df['VOLUME']/1000\n",
        "df['VOLUME'] = pd.to_numeric(df['VOLUME'], downcast='unsigned')\n",
        "\n",
        "df['PRICE'] = df['PRICE'].round(4)\n",
        "df['ACTION'] = pd.to_numeric(df['ACTION'], downcast='unsigned')\n",
        "df['BUYSELL'] = df['BUYSELL'].map({'B': 1, 'S': -1})\n",
        "df['BUYSELL'] = pd.to_numeric(df['BUYSELL'], downcast='integer')\n",
        "\n",
        "df['DATE'] = df['DATE'].astype(str).str[-2:]\n",
        "df['TIME'] = df['TIME'].astype(str)\n",
        "\n",
        "df['time'] = pd.to_datetime({'year': '2014',\n",
        "                        'month': '09',\n",
        "                        'day': df['DATE'],\n",
        "                        'hour': df['TIME'].str[:2], \n",
        "                        'minute': df['TIME'].str[2:4], \n",
        "                        'second': df['TIME'].str[4:6], \n",
        "                        'ms': df['TIME'].str[6:]})\n",
        "df = df.drop(['DATE', 'TIME'], axis=1)\n",
        "df.rename({'BUYSELL': 'side', 'ORDERNO': 'ordno', 'ACTION': 'act', 'PRICE': 'p', 'VOLUME': 'v', 'TRADENO': 'tradeno', 'TRADEPRICE': 'tradep'}, axis=1, inplace=True)\n",
        "df = df[(df['time'].dt.hour <= 18) & (df['time'].dt.day==1) & df['p'] != 0].reset_index(drop=True)\n",
        "tick = 0.0005"
      ],
      "execution_count": 0,
      "outputs": []
    },
    {
      "cell_type": "code",
      "metadata": {
        "id": "GwVjujUQvS_2",
        "colab_type": "code",
        "colab": {}
      },
      "source": [
        "#Считывание книги заявок, фильтрация записей за первый день\n",
        "n_levels = 10\n",
        "ob_cols = []\n",
        "for level in range(n_levels):\n",
        "    ob_cols.append('bid{}p'.format(level+1))\n",
        "    ob_cols.append('bid{}v'.format(level+1))\n",
        "    ob_cols.append('ask{}p'.format(level+1))\n",
        "    ob_cols.append('ask{}v'.format(level+1))\n",
        "\n",
        "book = pd.read_csv('clean_ob.csv', \n",
        "                   dtype=dict(zip(ob_cols[1::2], [np.int16]*len(ob_cols[1::2]))),  \n",
        "                   parse_dates=['time'], \n",
        "                   nrows=2e6)\n",
        "\n",
        "book = book[(book['time'].dt.hour <= 18) & ((book['time'].dt.day==1))]\n",
        "tick = 0.0005"
      ],
      "execution_count": 0,
      "outputs": []
    },
    {
      "cell_type": "code",
      "metadata": {
        "id": "J4bdsk_PvU20",
        "colab_type": "code",
        "colab": {}
      },
      "source": [
        "#Генерация столбцов, из которых будут созданы признаки\n",
        "for level in range(1, n_levels+1):\n",
        "    book['spread{}'.format(level)] = book['ask{}p'.format(level)] - book['bid{}p'.format(level)] #спреды\n",
        "    book['mid{}'.format(level)] = 0.5 * (book['ask{}p'.format(level)] + book['bid{}p'.format(level)]) #мидпоинты\n",
        "    book['vol_imb{}'.format(level)] = (book['ask{}v'.format(level)] - book['bid{}v'.format(level)]) #дисбалансы объемов\n",
        "\n",
        "for level in range(1, n_levels): \n",
        "    book['ask_diff{}'.format(level)] = (book['ask{}p'.format(level+1)] - book['ask{}p'.format(level)]).abs() #абсолютные разности цен смежных уровней на продажу\n",
        "    book['bid_diff{}'.format(level)] = (book['bid{}p'.format(level+1)] - book['bid{}p'.format(level)]).abs() #абсолютные разности цен смежных уровней на покупку\n",
        "    \n",
        "book['ask10_1'] = book['ask10p']-book['ask1p'] #разность цен десятого и первого уровней на продажу\n",
        "book['bid10_1'] = book['bid1p']-book['bid10p'] #разность цен десятого и первого уровней на покупку\n",
        "book['avg_ask_p'] = book[['ask{}p'.format(i) for i in range(1, n_levels+1)]].mean(axis=1) #усредненные цены продажи\n",
        "book['avg_bid_p'] = book[['bid{}p'.format(i) for i in range(1, n_levels+1)]].mean(axis=1) #усредненный цены покупки\n",
        "book['avg_ask_v'] = book[['ask{}v'.format(i) for i in range(1, n_levels+1)]].mean(axis=1) #усредненные объемы на продажу\n",
        "book['avg_bid_v'] = book[['bid{}v'.format(i) for i in range(1, n_levels+1)]].mean(axis=1) #усредненные объемы на покупку\n",
        "book['spreads_sum'] = book[['spread{}'.format(i) for i in range(1, n_levels+1)]].sum(axis=1) #cумма спредов\n",
        "book['vol_imb_sum'] =  book[['vol_imb{}'.format(i) for i in range(1, n_levels+1)]].sum(axis=1) #суммарный дисбаланс объемов"
      ],
      "execution_count": 0,
      "outputs": []
    },
    {
      "cell_type": "code",
      "metadata": {
        "id": "vhphDv9WvWwA",
        "colab_type": "code",
        "colab": {}
      },
      "source": [
        "window_width = 100 #ширина окна для расчета скользящих средних\n",
        "#fma - forward moving average\n",
        "#bma - backward moving average\n",
        "for level in range(1, n_levels+1):\n",
        "    book['ask{}p_fma'.format(level)] = book['ask{}p'.format(level)][::-1].rolling(window=window_width).mean()[::-1] \n",
        "    book['bid{}p_fma'.format(level)] = book['bid{}p'.format(level)][::-1].rolling(window=window_width).mean()[::-1] \n",
        "    book['ask{}v_fma'.format(level)] = book['ask{}v'.format(level)][::-1].rolling(window=window_width).mean()[::-1] \n",
        "    book['bid{}v_fma'.format(level)] = book['bid{}v'.format(level)][::-1].rolling(window=window_width).mean()[::-1] \n",
        "    book['spread{}_fma'.format(level)] = book['spread{}'.format(level)][::-1].rolling(window=window_width).mean()[::-1] \n",
        "    book['mid{}_fma'.format(level)] = book['mid{}'.format(level)][::-1].rolling(window=window_width).mean()[::-1] \n",
        "    book['vol_imb{}_fma'.format(level)] = book['vol_imb{}'.format(level)][::-1].rolling(window=window_width).mean()[::-1]\n",
        "\n",
        "for level in range(1, n_levels):\n",
        "    book['ask_diff{}_fma'.format(level)] = book['ask_diff{}'.format(level)][::-1].rolling(window=window_width).mean()[::-1]\n",
        "    book['bid_diff{}_fma'.format(level)] = book['bid_diff{}'.format(level)][::-1].rolling(window=window_width).mean()[::-1]\n",
        "\n",
        "\n",
        "book['ask10_1_fma'] = book['ask10_1'][::-1].rolling(window=window_width).mean()[::-1] \n",
        "book['bid10_1_fma'] = book['bid10_1'][::-1].rolling(window=window_width).mean()[::-1] \n",
        "book['avg_ask_p_fma'] = book['avg_ask_p'][::-1].rolling(window=window_width).mean()[::-1] \n",
        "book['avg_bid_p_fma'] = book['avg_bid_p'][::-1].rolling(window=window_width).mean()[::-1]\n",
        "book['avg_ask_v_fma'] = book['avg_ask_v'][::-1].rolling(window=window_width).mean()[::-1]\n",
        "book['avg_bid_v_fma'] = book['avg_bid_v'][::-1].rolling(window=window_width).mean()[::-1]\n",
        "book['spreads_sum_fma'] = book['spreads_sum'].rolling(window=window_width).mean()[::-1]\n",
        "book['vol_imb_sum_fma'] =  book['vol_imb_sum'].rolling(window=window_width).mean()[::-1]\n",
        "    \n",
        "for level in range(1, n_levels+1):\n",
        "    book['ask{}p_bma'.format(level)] = book['ask{}p'.format(level)].rolling(window=window_width).mean()\n",
        "    book['bid{}p_bma'.format(level)] = book['bid{}p'.format(level)].rolling(window=window_width).mean()\n",
        "    book['ask{}v_bma'.format(level)] = book['ask{}v'.format(level)].rolling(window=window_width).mean()\n",
        "    book['bid{}v_bma'.format(level)] = book['bid{}v'.format(level)].rolling(window=window_width).mean()\n",
        "    book['spread{}_bma'.format(level)] = book['spread{}'.format(level)].rolling(window=window_width).mean()\n",
        "    book['mid{}_bma'.format(level)] = book['mid{}'.format(level)].rolling(window=window_width).mean()\n",
        "    book['vol_imb{}_bma'.format(level)] = book['vol_imb{}'.format(level)].rolling(window=window_width).mean()\n",
        "    book.drop(['ask{}p'.format(level), 'ask{}v'.format(level), 'bid{}p'.format(level), 'bid{}v'.format(level), 'spread{}'.format(level), 'mid{}'.format(level), 'vol_imb{}'.format(level)], \n",
        "               axis=1, inplace=True)\n",
        "\n",
        "for level in range(1, n_levels):\n",
        "    book['ask_diff{}_bma'.format(level)] = book['ask_diff{}'.format(level)].rolling(window=window_width).mean()\n",
        "    book['bid_diff{}_bma'.format(level)] = book['bid_diff{}'.format(level)].rolling(window=window_width).mean()      \n",
        "    book.drop(['ask_diff{}'.format(level), 'bid_diff{}'.format(level)], axis=1, inplace=True)\n",
        "book['ask10_1_bma'] = book['ask10_1'].rolling(window=b).mean()\n",
        "book['bid10_1_bma'] = book['bid10_1'].rolling(window=b).mean()\n",
        "book['avg_ask_p_bma'] = book['avg_ask_p'].rolling(window=window_width).mean()\n",
        "book['avg_bid_p_bma'] = book['avg_bid_p'].rolling(window=window_width).mean()\n",
        "book['avg_ask_v_bma'] = book['avg_ask_v'].rolling(window=window_width).mean()\n",
        "book['avg_bid_v_bma'] = book['avg_bid_v'].rolling(window=window_width).mean()\n",
        "book['spreads_sum_bma'] = book['spreads_sum'].rolling(window=window_width).mean()\n",
        "book['vol_imb_sum_bma'] =  book['vol_imb_sum'].rolling(window=window_width).mean()\n",
        "book.drop(['ask10_1', 'bid10_1', 'avg_ask_p', 'avg_bid_p', 'avg_ask_v', 'avg_bid_v', 'spreads_sum', 'vol_imb_sum'], axis=1, inplace=True)"
      ],
      "execution_count": 0,
      "outputs": []
    },
    {
      "cell_type": "code",
      "metadata": {
        "id": "gzweUjklvbE8",
        "colab_type": "code",
        "colab": {}
      },
      "source": [
        "#Создание столбцов для генерации признаков из лога событий\n",
        "df['slo'] = ((df['act']==1) & (df['side']==-1)).astype(int) #число лимитных заявок на продажу\n",
        "df['blo'] = ((df['act']==1) & (df['side']==1)).astype(int) #число лимитных заявок на покупку\n",
        "df['cslo'] = ((df['act']==0) & (df['side']==-1)).astype(int) #число отмененных лимитных заявок на продажу \n",
        "df['cblo'] = ((df['act']==0) & (df['side']==1)).astype(int) #число на покупку\n",
        "df['slo_v'] = 0\n",
        "df.loc[(df['act']==1) & (df['side']==-1), 'slo_v'] = df.loc[(df['act']==1) & (df['side']==-1), 'v'] #объем лимитных заявок на продажу\n",
        "df['blo_v'] = 0\n",
        "df.loc[(df['act']==1) & (df['side']==1), 'blo_v'] = df.loc[(df['act']==1) & (df['side']==1), 'v'] #объем лимитных заявок на продажу\n",
        "df['cslo_v'] = 0\n",
        "df.loc[(df['act']==0) & (df['side']==-1), 'cslo_v'] = df.loc[(df['act']==0) & (df['side']==-1), 'v'] #объем отмененных лимитных заявок на продажу\n",
        "df['cblo_v'] = 0\n",
        "df.loc[(df['act']==0) & (df['side']==1), 'cblo_v'] = df.loc[(df['act']==0) & (df['side']==1), 'v'] #объем отмененных лимитных заявок на покупку"
      ],
      "execution_count": 0,
      "outputs": []
    },
    {
      "cell_type": "code",
      "metadata": {
        "id": "2l0zRT7dvdvc",
        "colab_type": "code",
        "colab": {}
      },
      "source": [
        "book['slo_n'] = df['slo'][::-1].rolling(window=f).sum()[::-1]/window_width\n",
        "book['blo_n'] = df['blo'][::-1].rolling(window=f).sum()[::-1]/window_width\n",
        "book['cslo_n'] = df['cslo'][::-1].rolling(window=f).sum()[::-1]/window_width\n",
        "book['cblo_n'] = df['cblo'][::-1].rolling(window=f).sum()[::-1]/window_width\n",
        "book['max_sv'] = df['slo_v'][::-1].rolling(window=f).max()[::-1]\n",
        "book['max_bv'] = df['blo_v'][::-1].rolling(window=f).max()[::-1]\n",
        "book['slo_n_prev'] = df['slo'].rolling(window=window_width).sum()/window_width\n",
        "book['blo_n_prev'] = df['blo'].rolling(window=window_width).sum()/window_width\n",
        "book['cslo_n_prev'] = df['cslo'].rolling(window=window_width).sum()/window_width\n",
        "book['cblo_n_prev'] = df['cblo'].rolling(window=window_width).sum()/window_width\n",
        "book['max_sv_prev'] = df['slo_v'].rolling(window=window_width).max()\n",
        "book['max_bv_prev'] = df['blo_v'].rolling(window=window_width).max()\n",
        "book['slo_n_long'] = df['slo'].rolling(window=500*window_width).sum()\n",
        "book['blo_n_long'] = df['blo'].rolling(window=500*window_width).sum()\n",
        "book['cslo_n_long'] = df['cslo'].rolling(window=500*window_width).sum()/500*window_width\n",
        "book['cblo_n_long'] = df['cblo'].rolling(window=500*window_width).sum()/500*window_width\n",
        "book['max_sv_long'] = df['slo_v'].rolling(window=500*window_width).max()/500*window_width\n",
        "book['max_bv_long'] = df['slo_v'].rolling(window=500*window_width).max()/500*window_width"
      ],
      "execution_count": 0,
      "outputs": []
    },
    {
      "cell_type": "code",
      "metadata": {
        "id": "hZG3jxyBvfj3",
        "colab_type": "code",
        "colab": {}
      },
      "source": [
        "F1 = []\n",
        "for i in range(1, n_levels+1):\n",
        "    F1.append('ask{}v_fma'.format(i))\n",
        "    F1.append('bid{}v_fma'.format(i))\n",
        "    F1.append('ask{}p_fma'.format(i))\n",
        "    F1.append('bid{}p_fma'.format(i))\n",
        "    F1.append('mid{}_fma'.format(i))\n",
        "    F1.append('vol_imb{}_fma'.format(i))"
      ],
      "execution_count": 0,
      "outputs": []
    },
    {
      "cell_type": "code",
      "metadata": {
        "id": "xPGl9KXXvhoF",
        "colab_type": "code",
        "colab": {}
      },
      "source": [
        "F2 = []\n",
        "for i in range(1, n_levels):\n",
        "    F2.append('spread{}_fma'.format(i))\n",
        "    F2.append('ask_diff{}_fma'.format(i))\n",
        "    F2.append('bid_diff{}_fma'.format(i))\n",
        "F2 = F2 + ['ask10_1_fma', 'bid10_1_fma', 'avg_ask_p_fma', 'avg_bid_p_fma', 'avg_ask_v_fma', 'avg_bid_v_fma', \n",
        "           'spreads_sum_fma', 'vol_imb_sum_fma']"
      ],
      "execution_count": 0,
      "outputs": []
    },
    {
      "cell_type": "code",
      "metadata": {
        "id": "nZB-YKravjX-",
        "colab_type": "code",
        "colab": {}
      },
      "source": [
        "F3 = ['slo_n', 'blo_n', 'cslo_n', 'cblo_n', 'max_sv', 'max_bv', \n",
        "      #'cblo_n_prev', 'max_sv_prev', 'slo_n_prev', 'blo_n_prev', 'cslo_n_prev', 'max_bv_prev',\n",
        "      'slo_n_long', 'blo_n_long', 'cslo_n_long', 'cblo_n_long', 'max_sv_long', 'max_bv_long']"
      ],
      "execution_count": 0,
      "outputs": []
    },
    {
      "cell_type": "code",
      "metadata": {
        "id": "laV8KLGCvlLs",
        "colab_type": "code",
        "colab": {}
      },
      "source": [
        "#Задание целевой переменной\n",
        "book['mid_f'] = book['mid1_fma'].shift(-f)\n",
        "r = 0.00001\n",
        "book['y'] = (book['mid_f'] > book['mid1_bma']*(1+r)).astype(int)"
      ],
      "execution_count": 0,
      "outputs": []
    },
    {
      "cell_type": "code",
      "metadata": {
        "id": "xeJ8AFkNnuiB",
        "colab_type": "code",
        "colab": {}
      },
      "source": [
        "train_from, train_to, test_from, test_to = '14:00', '16:00', '16:00', '17:00'"
      ],
      "execution_count": 0,
      "outputs": []
    },
    {
      "cell_type": "code",
      "metadata": {
        "id": "1D7Vd8vIvnN0",
        "colab_type": "code",
        "colab": {}
      },
      "source": [
        "F = F1+F2+F3\n",
        "#Выделение обучающей и тестовой выборок\n",
        "x1 = book.loc[(book['time'].dt.time >= pd.to_datetime(train_from).time()) & (book['time'].dt.time < pd.to_datetime(train_to).time()), F]\n",
        "y1 = book.loc[(book['time'].dt.time >= pd.to_datetime(train_from).time()) & (book['time'].dt.time < pd.to_datetime(train_to).time()), 'y']\n",
        "x2 = book.loc[(book['time'].dt.time >= pd.to_datetime(test_from).time()) & (book['time'].dt.time < pd.to_datetime(test_to).time()), F]\n",
        "y2 = book.loc[(book['time'].dt.time >= pd.to_datetime(test_from).time()) & (book['time'].dt.time < pd.to_datetime(test_to).time()), 'y']"
      ],
      "execution_count": 0,
      "outputs": []
    },
    {
      "cell_type": "code",
      "metadata": {
        "id": "ivhJ1xGswaFL",
        "colab_type": "code",
        "outputId": "5c08c067-ef35-4245-d2a2-d0849ef9ee1b",
        "colab": {
          "base_uri": "https://localhost:8080/",
          "height": 34
        }
      },
      "source": [
        "x1.shape, x2.shape"
      ],
      "execution_count": 16,
      "outputs": [
        {
          "output_type": "execute_result",
          "data": {
            "text/plain": [
              "((419864, 107), (93445, 107))"
            ]
          },
          "metadata": {
            "tags": []
          },
          "execution_count": 16
        }
      ]
    },
    {
      "cell_type": "code",
      "metadata": {
        "id": "EwlNBMH2TDz3",
        "colab_type": "code",
        "colab": {}
      },
      "source": [
        "forest = RandomForestClassifier(n_estimators=200, n_jobs=-1)\n",
        "forest.fit(x1, y1)"
      ],
      "execution_count": 0,
      "outputs": []
    },
    {
      "cell_type": "code",
      "metadata": {
        "id": "wio58HT4zYWT",
        "colab_type": "code",
        "colab": {}
      },
      "source": [
        "feature_imp = dict(zip(F, forest.feature_importances_))\n",
        "feature_imp = sorted(feature_imp.items(), key=lambda x: x[1])[::-1] #список с признаками, отсортированными по убыванию важности"
      ],
      "execution_count": 0,
      "outputs": []
    },
    {
      "cell_type": "code",
      "metadata": {
        "id": "Lbk_onE-xMRA",
        "colab_type": "code",
        "colab": {}
      },
      "source": [
        "feauture_range = list(range(10, 100, 10))"
      ],
      "execution_count": 0,
      "outputs": []
    },
    {
      "cell_type": "code",
      "metadata": {
        "id": "t_5why9cdWmW",
        "colab_type": "code",
        "colab": {}
      },
      "source": [
        "auc = []\n",
        "precision = []\n",
        "recall = []"
      ],
      "execution_count": 0,
      "outputs": []
    },
    {
      "cell_type": "code",
      "metadata": {
        "id": "I5JR05SHtyi7",
        "colab_type": "code",
        "colab": {}
      },
      "source": [
        "for i in feauture_range:\n",
        "    cols = [feature_imp[ind][0] for ind in range(i)]\n",
        "    X1 = x1[cols]\n",
        "    X2 = x2[cols]\n",
        "    forest = RandomForestClassifier(n_estimators=200, n_jobs=-1)\n",
        "    forest.fit(X1, y1)\n",
        "    auc.append((roc_auc_score(y1, forest.predict_proba(X1)[:, 1]), roc_auc_score(y2, forest.predict_proba(X2)[:, 1])))\n",
        "    precision.append((precision_score(y1, forest.predict(X1)), precision_score(y2, forest.predict(X2))))\n",
        "    recall.append((recall_score(y1, forest.predict(X1)), recall_score(y2, forest.predict(X2))))"
      ],
      "execution_count": 0,
      "outputs": []
    },
    {
      "cell_type": "code",
      "metadata": {
        "id": "vYAec7Z-sJOT",
        "colab_type": "code",
        "outputId": "8a434f99-44b5-4de1-a30a-385a13397ad5",
        "colab": {
          "base_uri": "https://localhost:8080/",
          "height": 296
        }
      },
      "source": [
        "plt.figure(figsize=[12, 4])\n",
        "plt.subplot(1, 3, 1)\n",
        "plt.plot(feauture_range, [auc[i][1] for i in range(len(auc))], '--')\n",
        "plt.ylabel('AUC')\n",
        "plt.subplot(1, 3, 2)\n",
        "plt.plot(feauture_range, [precision[i][1] for i in range(len(auc))], '--')\n",
        "plt.xlabel('Число признаков')\n",
        "plt.ylabel('Precision')\n",
        "plt.subplot(1, 3, 3)\n",
        "plt.plot(feauture_range, [recall[i][1] for i in range(len(recall))], '--')\n",
        "plt.ylabel('Recall')\n",
        "plt.tight_layout()"
      ],
      "execution_count": 29,
      "outputs": [
        {
          "output_type": "display_data",
          "data": {
            "image/png": "[encoded data removed]",
            "text/plain": [
              "<Figure size 864x288 with 3 Axes>"
            ]
          },
          "metadata": {
            "tags": []
          }
        }
      ]
    }
  ]
}