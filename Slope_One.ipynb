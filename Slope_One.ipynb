{
 "cells": [
  {
   "cell_type": "code",
   "execution_count": 32,
   "metadata": {
    "collapsed": true
   },
   "outputs": [],
   "source": [
    "import pandas as pd\n",
    "import numpy as np"
   ]
  },
  {
   "cell_type": "code",
   "execution_count": 33,
   "metadata": {
    "collapsed": true
   },
   "outputs": [],
   "source": [
    "#Считывание файла с рейтингами фильмов\n",
    "df = pd.read_excel('Films.xlsx', index_col='User')"
   ]
  },
  {
   "cell_type": "code",
   "execution_count": 34,
   "metadata": {
    "collapsed": true
   },
   "outputs": [],
   "source": [
    "#Минимальные и максимальные возможные значения оценкок\n",
    "min_border = 1\n",
    "max_border = 5"
   ]
  },
  {
   "cell_type": "code",
   "execution_count": 35,
   "metadata": {
    "collapsed": true
   },
   "outputs": [],
   "source": [
    "#Выделение оцененных и неоцененных пользователем target фильмов\n",
    "target = 'Спицын'\n",
    "rated_movies = df.columns[np.where(df.loc[target, :] != 0)]\n",
    "unrated_movies = df.columns[~df.columns.isin(rated_movies)]"
   ]
  },
  {
   "cell_type": "code",
   "execution_count": 36,
   "metadata": {},
   "outputs": [],
   "source": [
    "#Прогнозирвание оценок, которые пользователь target поставит непросмотренным фильмам \n",
    "others = df.drop(target)\n",
    "p = {}\n",
    "for unrated in unrated_movies:\n",
    "    R = []\n",
    "    dev = []\n",
    "    for rated in rated_movies:\n",
    "        rated_both = others.loc[(df[rated]!=0) & (df[unrated]!=0)]\n",
    "        n = len(rated_both)\n",
    "        dev.append(((rated_both[unrated]-rated_both[rated])/n).sum())\n",
    "        R.append(rated)     \n",
    "    p[unrated] = 1/len(R) * np.add(dev, df.loc[target, rated_movies]).sum()"
   ]
  },
  {
   "cell_type": "code",
   "execution_count": 46,
   "metadata": {},
   "outputs": [],
   "source": [
    "#Замена оценок ниже 1 на 1 и оценок больше 5 на 5\n",
    "marks = np.array(list(p.values()))\n",
    "marks[marks<min_border] = min_border\n",
    "marks[marks>max_border] = max_border\n",
    "forecast_df = pd.DataFrame(data={\"Фильм\": list(p.keys()), \"Оценка\": marks}).round(1)\n",
    "forecast_df.set_index(\"Фильм\", inplace=True, drop=True)"
   ]
  },
  {
   "cell_type": "code",
   "execution_count": 47,
   "metadata": {},
   "outputs": [
    {
     "name": "stdout",
     "output_type": "stream",
     "text": [
      "Прогнозные оценки фильмов для пользователя Спицын: \n",
      "                         Оценка\n",
      "Фильм                         \n",
      "Хоббит 1                   3.9\n",
      "Отпуск по обмену           3.2\n",
      "Любовь и голуби            2.9\n",
      "Москва слезам не верит     2.9\n",
      "Легенда №17                1.8\n"
     ]
    }
   ],
   "source": [
    "print(\"Прогнозные оценки фильмов для пользователя {}: \\n\".format(target), forecast_df.sort_values(\"Оценка\", ascending=False))"
   ]
  }
 ],
 "metadata": {
  "kernelspec": {
   "display_name": "Python 3",
   "language": "python",
   "name": "python3"
  }
 },
 "nbformat": 4,
 "nbformat_minor": 2
}
